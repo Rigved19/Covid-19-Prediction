{
  "nbformat": 4,
  "nbformat_minor": 0,
  "metadata": {
    "colab": {
      "name": "Covid 19 Prediction .ipynb",
      "provenance": [],
      "collapsed_sections": [],
      "authorship_tag": "ABX9TyMkm2fqtlbo1ZU2lvp1PZi6",
      "include_colab_link": true
    },
    "kernelspec": {
      "display_name": "Python 3",
      "name": "python3"
    },
    "language_info": {
      "name": "python"
    }
  },
  "cells": [
    {
      "cell_type": "markdown",
      "metadata": {
        "id": "view-in-github",
        "colab_type": "text"
      },
      "source": [
        "<a href=\"https://colab.research.google.com/github/Rigved19/Covid-19-Prediction/blob/main/Covid_19_Prediction_.ipynb\" target=\"_parent\"><img src=\"https://colab.research.google.com/assets/colab-badge.svg\" alt=\"Open In Colab\"/></a>"
      ]
    },
    {
      "cell_type": "code",
      "metadata": {
        "colab": {
          "base_uri": "https://localhost:8080/"
        },
        "id": "N7bf275ezOzP",
        "outputId": "d1490e0f-eb45-42f2-ddf1-9f8220f82296"
      },
      "source": [
        "!pip install category_encoders"
      ],
      "execution_count": null,
      "outputs": [
        {
          "output_type": "stream",
          "text": [
            "Requirement already satisfied: category_encoders in /usr/local/lib/python3.7/dist-packages (2.2.2)\n",
            "Requirement already satisfied: patsy>=0.5.1 in /usr/local/lib/python3.7/dist-packages (from category_encoders) (0.5.1)\n",
            "Requirement already satisfied: scikit-learn>=0.20.0 in /usr/local/lib/python3.7/dist-packages (from category_encoders) (0.22.2.post1)\n",
            "Requirement already satisfied: pandas>=0.21.1 in /usr/local/lib/python3.7/dist-packages (from category_encoders) (1.1.5)\n",
            "Requirement already satisfied: numpy>=1.14.0 in /usr/local/lib/python3.7/dist-packages (from category_encoders) (1.19.5)\n",
            "Requirement already satisfied: scipy>=1.0.0 in /usr/local/lib/python3.7/dist-packages (from category_encoders) (1.4.1)\n",
            "Requirement already satisfied: statsmodels>=0.9.0 in /usr/local/lib/python3.7/dist-packages (from category_encoders) (0.10.2)\n",
            "Requirement already satisfied: six in /usr/local/lib/python3.7/dist-packages (from patsy>=0.5.1->category_encoders) (1.15.0)\n",
            "Requirement already satisfied: joblib>=0.11 in /usr/local/lib/python3.7/dist-packages (from scikit-learn>=0.20.0->category_encoders) (1.0.1)\n",
            "Requirement already satisfied: pytz>=2017.2 in /usr/local/lib/python3.7/dist-packages (from pandas>=0.21.1->category_encoders) (2018.9)\n",
            "Requirement already satisfied: python-dateutil>=2.7.3 in /usr/local/lib/python3.7/dist-packages (from pandas>=0.21.1->category_encoders) (2.8.1)\n"
          ],
          "name": "stdout"
        }
      ]
    },
    {
      "cell_type": "markdown",
      "metadata": {
        "id": "yI8hl4Mgj-QQ"
      },
      "source": [
        "###**Importing Important Libraries for Data Preprcoessing**\n",
        "* Numpy\n",
        "* Pandas\n",
        "* Enders, Normalizers, Standardizers\n",
        "* Matplotlib"
      ]
    },
    {
      "cell_type": "code",
      "metadata": {
        "id": "5jNbjTe5e23A"
      },
      "source": [
        "import numpy as np\n",
        "import pandas as pd\n",
        "from sklearn.preprocessing import LabelEncoder, MinMaxScaler, StandardScaler\n",
        "from category_encoders import TargetEncoder\n",
        "from sklearn.metrics import mean_squared_error as mse\n",
        "from matplotlib import pyplot as plt\n"
      ],
      "execution_count": null,
      "outputs": []
    },
    {
      "cell_type": "markdown",
      "metadata": {
        "id": "zdrAmlj5kZ5-"
      },
      "source": [
        "###**Reading Data and Analysing**"
      ]
    },
    {
      "cell_type": "code",
      "metadata": {
        "id": "lkFIY29CgJMn"
      },
      "source": [
        "df = pd.read_csv(\"/content/covid-data (3).csv\") #Reading the Data"
      ],
      "execution_count": null,
      "outputs": []
    },
    {
      "cell_type": "code",
      "metadata": {
        "colab": {
          "base_uri": "https://localhost:8080/"
        },
        "id": "PWh5nyYbvUDC",
        "outputId": "909bdb81-12cb-43bd-84f2-4b78fe220e77"
      },
      "source": [
        "df.info() #Getting info about the data"
      ],
      "execution_count": null,
      "outputs": [
        {
          "output_type": "stream",
          "text": [
            "<class 'pandas.core.frame.DataFrame'>\n",
            "RangeIndex: 34873 entries, 0 to 34872\n",
            "Data columns (total 36 columns):\n",
            " #   Column                           Non-Null Count  Dtype  \n",
            "---  ------                           --------------  -----  \n",
            " 0   iso_code                         34809 non-null  object \n",
            " 1   continent                        34590 non-null  object \n",
            " 2   location                         34873 non-null  object \n",
            " 3   date                             34873 non-null  object \n",
            " 4   total_cases                      34532 non-null  float64\n",
            " 5   new_cases                        34532 non-null  float64\n",
            " 6   total_deaths                     34532 non-null  float64\n",
            " 7   new_deaths                       34532 non-null  float64\n",
            " 8   total_cases_per_million          34468 non-null  float64\n",
            " 9   new_cases_per_million            34468 non-null  float64\n",
            " 10  total_deaths_per_million         34468 non-null  float64\n",
            " 11  new_deaths_per_million           34468 non-null  float64\n",
            " 12  new_tests                        10810 non-null  float64\n",
            " 13  total_tests                      11164 non-null  float64\n",
            " 14  total_tests_per_thousand         11164 non-null  float64\n",
            " 15  new_tests_per_thousand           10810 non-null  float64\n",
            " 16  new_tests_smoothed               12162 non-null  float64\n",
            " 17  new_tests_smoothed_per_thousand  12162 non-null  float64\n",
            " 18  tests_per_case                   11320 non-null  float64\n",
            " 19  positive_rate                    11664 non-null  float64\n",
            " 20  tests_units                      12898 non-null  object \n",
            " 21  stringency_index                 28193 non-null  float64\n",
            " 22  population                       34809 non-null  float64\n",
            " 23  population_density               33289 non-null  float64\n",
            " 24  median_age                       31362 non-null  float64\n",
            " 25  aged_65_older                    30905 non-null  float64\n",
            " 26  aged_70_older                    31200 non-null  float64\n",
            " 27  gdp_per_capita                   30975 non-null  float64\n",
            " 28  extreme_poverty                  20726 non-null  float64\n",
            " 29  cardiovasc_death_rate            31391 non-null  float64\n",
            " 30  diabetes_prevalence              32441 non-null  float64\n",
            " 31  female_smokers                   24870 non-null  float64\n",
            " 32  male_smokers                     24570 non-null  float64\n",
            " 33  handwashing_facilities           14408 non-null  float64\n",
            " 34  hospital_beds_per_thousand       28514 non-null  float64\n",
            " 35  life_expectancy                  34386 non-null  float64\n",
            "dtypes: float64(31), object(5)\n",
            "memory usage: 9.6+ MB\n"
          ],
          "name": "stdout"
        }
      ]
    },
    {
      "cell_type": "markdown",
      "metadata": {
        "id": "eRhKq2nUkkIv"
      },
      "source": [
        "###**Condering Following features (10) :**\n",
        "* Continent \n",
        "* Location \n",
        "* Date\n",
        "* New Cases\n",
        "* New Deaths\n",
        "* Positive Rate\n",
        "* Population Density\n",
        "* Median Age\n",
        "* Diabeters Prevelance\n",
        "* Life Expectancy"
      ]
    },
    {
      "cell_type": "code",
      "metadata": {
        "id": "3_QjTHQivVEg"
      },
      "source": [
        "#Considering only relvant features(Columns)\n",
        "df= df[[\"continent\", \"location\" , \"date\" , \"new_cases\" , \"new_deaths\" , \"positive_rate\" , \"population_density\" , \"median_age\" , \"diabetes_prevalence\" , \"life_expectancy\" ]]"
      ],
      "execution_count": null,
      "outputs": []
    },
    {
      "cell_type": "code",
      "metadata": {
        "colab": {
          "base_uri": "https://localhost:8080/"
        },
        "id": "ROlWKawKyeqn",
        "outputId": "254cb990-bfd0-436d-f403-08f1d13260dd"
      },
      "source": [
        "df.isnull().sum()"
      ],
      "execution_count": null,
      "outputs": [
        {
          "output_type": "execute_result",
          "data": {
            "text/plain": [
              "continent                283\n",
              "location                   0\n",
              "date                       0\n",
              "new_cases                341\n",
              "new_deaths               341\n",
              "positive_rate          23209\n",
              "population_density      1584\n",
              "median_age              3511\n",
              "diabetes_prevalence     2432\n",
              "life_expectancy          487\n",
              "dtype: int64"
            ]
          },
          "metadata": {
            "tags": []
          },
          "execution_count": 56
        }
      ]
    },
    {
      "cell_type": "markdown",
      "metadata": {
        "id": "spQLc9rOlNTF"
      },
      "source": [
        "###**Data Preprocessing :**\n",
        "\n",
        "* Drop Null Value rows wrt \"continent\", \"population density\", \"median age\", \"life expectancy\", \"diabetes prevalence\"\n",
        "* Drop \"positive rate\" column (due to many null values)\n",
        "* Apply backfill for \"new cases\" and \"new deaths\"\n",
        "* Converting Dates into Days\n",
        "\n"
      ]
    },
    {
      "cell_type": "code",
      "metadata": {
        "colab": {
          "base_uri": "https://localhost:8080/"
        },
        "id": "hzoZOnIOzGvc",
        "outputId": "c8f1dad9-002a-4891-bd0f-65758f06b7d6"
      },
      "source": [
        "#Data Preprocessing\n",
        "df.dropna(subset = [\"continent\"] , inplace = True)  #Remove Null values corr to Coninent\n",
        "\n",
        "df.drop([\"positive_rate\"] , axis = 1 , inplace = True)  # Drop Postive Rate Column\n",
        " #Remove Null values corr to following columns\n",
        "df.dropna(subset = [\"population_density\" , \"median_age\" , \"life_expectancy\" ,  \"diabetes_prevalence\"] , inplace = True)\n",
        "\n",
        " #Apply before fill to New Cases and New Deaths\n",
        "df[\"new_deaths\"].fillna( method = \"bfill\" , inplace = True)\n",
        "df[\"new_cases\"].fillna( method = \"bfill\" , inplace = True)\n",
        "df[\"continent\"].astype(\"category\")  #Only after changing it to category can we apply the encoding techniques\n",
        "df[\"location\"].astype(\"category\")   #Only after changing it to category can we apply the encoding techniques\n",
        "\n",
        "#Coverting date into Unifirm format\n",
        "df[\"date\"] = pd.to_datetime(df[\"date\"])\n",
        "\n",
        "# Converting dates into days\n",
        "k = []\n",
        "for x in df['date']:\n",
        "  k.append((x-df[\"date\"][0]).days)   #We have to convert into list and add seperatly into the Dataframe\n",
        "                                     #since, we cant append directly into the dataframe, no method availbale like that\n",
        "df[\"Day\"] = k\n",
        "df.info(210)"
      ],
      "execution_count": null,
      "outputs": [
        {
          "output_type": "stream",
          "text": [
            "<class 'pandas.core.frame.DataFrame'>\n",
            "Int64Index: 30564 entries, 0 to 34589\n",
            "Data columns (total 10 columns):\n",
            " #   Column               Non-Null Count  Dtype         \n",
            "---  ------               --------------  -----         \n",
            " 0   continent            30564 non-null  object        \n",
            " 1   location             30564 non-null  object        \n",
            " 2   date                 30564 non-null  datetime64[ns]\n",
            " 3   new_cases            30564 non-null  float64       \n",
            " 4   new_deaths           30564 non-null  float64       \n",
            " 5   population_density   30564 non-null  float64       \n",
            " 6   median_age           30564 non-null  float64       \n",
            " 7   diabetes_prevalence  30564 non-null  float64       \n",
            " 8   life_expectancy      30564 non-null  float64       \n",
            " 9   Day                  30564 non-null  int64         \n",
            "dtypes: datetime64[ns](1), float64(6), int64(1), object(2)\n",
            "memory usage: 3.8+ MB\n"
          ],
          "name": "stdout"
        }
      ]
    },
    {
      "cell_type": "markdown",
      "metadata": {
        "id": "0OCHJKtEm2gA"
      },
      "source": [
        "###**Encoding Techniques**\n",
        "* Label Encoding - \"continent\" (Due to less number, hierachy created is not an issue)\n",
        "* Target Encoding - \"location\" wrt \"new cases\" (Creating correlation between location and cases in the location - self explanotory)"
      ]
    },
    {
      "cell_type": "code",
      "metadata": {
        "id": "jtfwawNczUUB",
        "colab": {
          "base_uri": "https://localhost:8080/"
        },
        "outputId": "ccc25806-18b7-4f97-f4d9-eadf0b78b0cd"
      },
      "source": [
        "#Feature Encoding\n",
        "le = LabelEncoder()\n",
        "te = TargetEncoder()\n",
        "df[\"Continent_encoded\"] = le.fit_transform(df[\"continent\"])  #LabelEncoding for Continents\n",
        "df[\"Location_encoded\"] = te.fit_transform( df[\"location\"] , df[\"new_cases\"]) #TargetEncoding for Countries wrt New_Cases"
      ],
      "execution_count": null,
      "outputs": [
        {
          "output_type": "stream",
          "text": [
            "/usr/local/lib/python3.7/dist-packages/category_encoders/utils.py:21: FutureWarning: is_categorical is deprecated and will be removed in a future version.  Use is_categorical_dtype instead\n",
            "  elif pd.api.types.is_categorical(cols):\n"
          ],
          "name": "stderr"
        }
      ]
    },
    {
      "cell_type": "markdown",
      "metadata": {
        "id": "HCnMFJsxoCDD"
      },
      "source": [
        "###**Creating New Columns :**\n",
        "* Prev Day Cases\n",
        "* Prev Day Deaths"
      ]
    },
    {
      "cell_type": "code",
      "metadata": {
        "id": "-E403CHv3PKp"
      },
      "source": [
        "#Calculating Previus Days Cases and Deaths\n",
        "prev_day_cases = []\n",
        "prev_day_cases.append(0)\n",
        "for x in range(1 , df.shape[0]):\n",
        "  if (df.iloc[x][\"Location_encoded\"] == df.iloc[x-1][\"Location_encoded\"]) :    #Use .iloc not .loc, since index are also deleted after deleting the rows\n",
        "    prev_day_cases.append(df.iloc[x-1][\"new_cases\"])                           #As soon as Location changes, counter starts back from 0 cases for prev cases\n",
        "\n",
        "  else :\n",
        "    prev_day_cases.append(0)\n",
        "df[\"Prev_Day_Cases\"] = prev_day_cases   \n",
        "\n",
        "#Calculating Previus Days Cases and Deaths\n",
        "prev_day_deaths = []\n",
        "prev_day_deaths.append(0)\n",
        "for x in range(1 , df.shape[0]):\n",
        "  if (df.iloc[x][\"Location_encoded\"] == df.iloc[x-1][\"Location_encoded\"]) :    #Use .iloc not .loc, since index are also deleted after deleting the rows\n",
        "    prev_day_deaths.append(df.iloc[x-1][\"new_deaths\"])                         #As soon as Location changes, counter starts back from 0 cases for prev cases\n",
        "\n",
        "  else :\n",
        "    prev_day_deaths.append(0)  \n",
        "\n",
        "df[\"Prev_Day_Deaths\"] = prev_day_deaths"
      ],
      "execution_count": null,
      "outputs": []
    },
    {
      "cell_type": "markdown",
      "metadata": {
        "id": "ceWn9jjope4e"
      },
      "source": [
        "###**Sorting the entire dataset wrt :**\n",
        "* Day (ie Day 0 of all countries will come first, then Day 1 and so on)\n",
        "* Location (ie Day 0 of countries now to be aligned alphabetically)"
      ]
    },
    {
      "cell_type": "code",
      "metadata": {
        "colab": {
          "base_uri": "https://localhost:8080/"
        },
        "id": "rOtj9kbCB0gY",
        "outputId": "64fda39a-9f94-46e1-f122-ede5f05d2ac9"
      },
      "source": [
        "df.sort_values( by = [\"Day\" , \"location\"] , ascending =[True , True] , inplace = True ) #Sorting in ascending order wrt Days then, Location (Aplabeticallyl)\n",
        "df[\"location\"].astype(\"category\")  #Returns the no. of countries"
      ],
      "execution_count": null,
      "outputs": [
        {
          "output_type": "execute_result",
          "data": {
            "text/plain": [
              "0        Afghanistan\n",
              "359          Algeria\n",
              "1303         Armenia\n",
              "1649       Australia\n",
              "1868         Austria\n",
              "            ...     \n",
              "33872      Venezuela\n",
              "34091        Vietnam\n",
              "34311          Yemen\n",
              "34451         Zambia\n",
              "34589       Zimbabwe\n",
              "Name: location, Length: 30564, dtype: category\n",
              "Categories (182, object): ['Afghanistan', 'Albania', 'Algeria', 'Angola', ..., 'Vietnam', 'Yemen',\n",
              "                           'Zambia', 'Zimbabwe']"
            ]
          },
          "metadata": {
            "tags": []
          },
          "execution_count": 60
        }
      ]
    },
    {
      "cell_type": "markdown",
      "metadata": {
        "id": "slxW86BkqVPn"
      },
      "source": [
        "###**Train - Test Split**\n",
        "* Dataset with \"Day < 201\" --> **Train**\n",
        "* Dataset with \"200 < Day < 218\" ---> **Test**"
      ]
    },
    {
      "cell_type": "code",
      "metadata": {
        "colab": {
          "base_uri": "https://localhost:8080/",
          "height": 622
        },
        "id": "DBZEDSAwBsdx",
        "outputId": "5c4c760a-bf92-4f8b-a18a-14d2899f9be9"
      },
      "source": [
        "#Train Test Data Splitting\n",
        "train_data = df[df[\"Day\"] <= 200]  #df[Day] >= 200 returns Boolean Values to the condiction when fed to the entire data, passes only the rows corres. to values \n",
        "test_data = df[df['Day']>200]\n",
        "test_data = test_data[test_data['Day']<218]\n",
        "  #Same Logic\n",
        "train_data = train_data.sample(frac=1) #Randomly shuffles entire training dataset\n",
        "train_data.head(100)\n"
      ],
      "execution_count": null,
      "outputs": [
        {
          "output_type": "execute_result",
          "data": {
            "text/html": [
              "<div>\n",
              "<style scoped>\n",
              "    .dataframe tbody tr th:only-of-type {\n",
              "        vertical-align: middle;\n",
              "    }\n",
              "\n",
              "    .dataframe tbody tr th {\n",
              "        vertical-align: top;\n",
              "    }\n",
              "\n",
              "    .dataframe thead th {\n",
              "        text-align: right;\n",
              "    }\n",
              "</style>\n",
              "<table border=\"1\" class=\"dataframe\">\n",
              "  <thead>\n",
              "    <tr style=\"text-align: right;\">\n",
              "      <th></th>\n",
              "      <th>continent</th>\n",
              "      <th>location</th>\n",
              "      <th>date</th>\n",
              "      <th>new_cases</th>\n",
              "      <th>new_deaths</th>\n",
              "      <th>population_density</th>\n",
              "      <th>median_age</th>\n",
              "      <th>diabetes_prevalence</th>\n",
              "      <th>life_expectancy</th>\n",
              "      <th>Day</th>\n",
              "      <th>Continent_encoded</th>\n",
              "      <th>Location_encoded</th>\n",
              "      <th>Prev_Day_Cases</th>\n",
              "      <th>Prev_Day_Deaths</th>\n",
              "    </tr>\n",
              "  </thead>\n",
              "  <tbody>\n",
              "    <tr>\n",
              "      <th>23695</th>\n",
              "      <td>Europe</td>\n",
              "      <td>Norway</td>\n",
              "      <td>2020-04-07</td>\n",
              "      <td>115.0</td>\n",
              "      <td>1.0</td>\n",
              "      <td>14.462</td>\n",
              "      <td>39.7</td>\n",
              "      <td>5.31</td>\n",
              "      <td>82.40</td>\n",
              "      <td>98</td>\n",
              "      <td>2</td>\n",
              "      <td>42.616438</td>\n",
              "      <td>130.0</td>\n",
              "      <td>8.0</td>\n",
              "    </tr>\n",
              "    <tr>\n",
              "      <th>12179</th>\n",
              "      <td>Europe</td>\n",
              "      <td>Germany</td>\n",
              "      <td>2020-03-28</td>\n",
              "      <td>6294.0</td>\n",
              "      <td>72.0</td>\n",
              "      <td>237.016</td>\n",
              "      <td>46.6</td>\n",
              "      <td>8.31</td>\n",
              "      <td>81.33</td>\n",
              "      <td>88</td>\n",
              "      <td>2</td>\n",
              "      <td>968.136986</td>\n",
              "      <td>5780.0</td>\n",
              "      <td>55.0</td>\n",
              "    </tr>\n",
              "    <tr>\n",
              "      <th>31956</th>\n",
              "      <td>Asia</td>\n",
              "      <td>Turkey</td>\n",
              "      <td>2020-03-23</td>\n",
              "      <td>289.0</td>\n",
              "      <td>9.0</td>\n",
              "      <td>104.914</td>\n",
              "      <td>31.6</td>\n",
              "      <td>12.13</td>\n",
              "      <td>77.69</td>\n",
              "      <td>83</td>\n",
              "      <td>1</td>\n",
              "      <td>1620.234483</td>\n",
              "      <td>277.0</td>\n",
              "      <td>12.0</td>\n",
              "    </tr>\n",
              "    <tr>\n",
              "      <th>23016</th>\n",
              "      <td>North America</td>\n",
              "      <td>Nicaragua</td>\n",
              "      <td>2020-04-21</td>\n",
              "      <td>0.0</td>\n",
              "      <td>1.0</td>\n",
              "      <td>51.667</td>\n",
              "      <td>27.3</td>\n",
              "      <td>11.47</td>\n",
              "      <td>74.48</td>\n",
              "      <td>112</td>\n",
              "      <td>3</td>\n",
              "      <td>27.871429</td>\n",
              "      <td>0.0</td>\n",
              "      <td>0.0</td>\n",
              "    </tr>\n",
              "    <tr>\n",
              "      <th>1791</th>\n",
              "      <td>Oceania</td>\n",
              "      <td>Australia</td>\n",
              "      <td>2020-05-21</td>\n",
              "      <td>11.0</td>\n",
              "      <td>1.0</td>\n",
              "      <td>3.202</td>\n",
              "      <td>37.9</td>\n",
              "      <td>5.07</td>\n",
              "      <td>83.44</td>\n",
              "      <td>142</td>\n",
              "      <td>4</td>\n",
              "      <td>85.520548</td>\n",
              "      <td>8.0</td>\n",
              "      <td>0.0</td>\n",
              "    </tr>\n",
              "    <tr>\n",
              "      <th>...</th>\n",
              "      <td>...</td>\n",
              "      <td>...</td>\n",
              "      <td>...</td>\n",
              "      <td>...</td>\n",
              "      <td>...</td>\n",
              "      <td>...</td>\n",
              "      <td>...</td>\n",
              "      <td>...</td>\n",
              "      <td>...</td>\n",
              "      <td>...</td>\n",
              "      <td>...</td>\n",
              "      <td>...</td>\n",
              "      <td>...</td>\n",
              "      <td>...</td>\n",
              "    </tr>\n",
              "    <tr>\n",
              "      <th>20144</th>\n",
              "      <td>Europe</td>\n",
              "      <td>Malta</td>\n",
              "      <td>2020-02-18</td>\n",
              "      <td>1.0</td>\n",
              "      <td>0.0</td>\n",
              "      <td>1454.037</td>\n",
              "      <td>42.4</td>\n",
              "      <td>8.83</td>\n",
              "      <td>82.53</td>\n",
              "      <td>49</td>\n",
              "      <td>2</td>\n",
              "      <td>4.697802</td>\n",
              "      <td>1.0</td>\n",
              "      <td>0.0</td>\n",
              "    </tr>\n",
              "    <tr>\n",
              "      <th>24149</th>\n",
              "      <td>Asia</td>\n",
              "      <td>Pakistan</td>\n",
              "      <td>2020-05-04</td>\n",
              "      <td>1083.0</td>\n",
              "      <td>22.0</td>\n",
              "      <td>255.573</td>\n",
              "      <td>23.5</td>\n",
              "      <td>8.35</td>\n",
              "      <td>67.27</td>\n",
              "      <td>125</td>\n",
              "      <td>1</td>\n",
              "      <td>1313.719626</td>\n",
              "      <td>989.0</td>\n",
              "      <td>23.0</td>\n",
              "    </tr>\n",
              "    <tr>\n",
              "      <th>23152</th>\n",
              "      <td>Africa</td>\n",
              "      <td>Niger</td>\n",
              "      <td>2020-04-19</td>\n",
              "      <td>12.0</td>\n",
              "      <td>1.0</td>\n",
              "      <td>16.955</td>\n",
              "      <td>15.1</td>\n",
              "      <td>2.42</td>\n",
              "      <td>62.42</td>\n",
              "      <td>110</td>\n",
              "      <td>0</td>\n",
              "      <td>8.347826</td>\n",
              "      <td>18.0</td>\n",
              "      <td>3.0</td>\n",
              "    </tr>\n",
              "    <tr>\n",
              "      <th>11674</th>\n",
              "      <td>Africa</td>\n",
              "      <td>Gabon</td>\n",
              "      <td>2020-06-07</td>\n",
              "      <td>0.0</td>\n",
              "      <td>0.0</td>\n",
              "      <td>7.859</td>\n",
              "      <td>23.1</td>\n",
              "      <td>7.20</td>\n",
              "      <td>66.47</td>\n",
              "      <td>159</td>\n",
              "      <td>0</td>\n",
              "      <td>52.731034</td>\n",
              "      <td>146.0</td>\n",
              "      <td>0.0</td>\n",
              "    </tr>\n",
              "    <tr>\n",
              "      <th>24585</th>\n",
              "      <td>Oceania</td>\n",
              "      <td>Papua New Guinea</td>\n",
              "      <td>2020-05-02</td>\n",
              "      <td>0.0</td>\n",
              "      <td>0.0</td>\n",
              "      <td>18.220</td>\n",
              "      <td>22.6</td>\n",
              "      <td>17.65</td>\n",
              "      <td>64.50</td>\n",
              "      <td>123</td>\n",
              "      <td>4</td>\n",
              "      <td>0.826087</td>\n",
              "      <td>0.0</td>\n",
              "      <td>0.0</td>\n",
              "    </tr>\n",
              "  </tbody>\n",
              "</table>\n",
              "<p>100 rows × 14 columns</p>\n",
              "</div>"
            ],
            "text/plain": [
              "           continent          location  ... Prev_Day_Cases  Prev_Day_Deaths\n",
              "23695         Europe            Norway  ...          130.0              8.0\n",
              "12179         Europe           Germany  ...         5780.0             55.0\n",
              "31956           Asia            Turkey  ...          277.0             12.0\n",
              "23016  North America         Nicaragua  ...            0.0              0.0\n",
              "1791         Oceania         Australia  ...            8.0              0.0\n",
              "...              ...               ...  ...            ...              ...\n",
              "20144         Europe             Malta  ...            1.0              0.0\n",
              "24149           Asia          Pakistan  ...          989.0             23.0\n",
              "23152         Africa             Niger  ...           18.0              3.0\n",
              "11674         Africa             Gabon  ...          146.0              0.0\n",
              "24585        Oceania  Papua New Guinea  ...            0.0              0.0\n",
              "\n",
              "[100 rows x 14 columns]"
            ]
          },
          "metadata": {
            "tags": []
          },
          "execution_count": 61
        }
      ]
    },
    {
      "cell_type": "markdown",
      "metadata": {
        "id": "fsBFiikIq1ae"
      },
      "source": [
        "###**Input Train :**\n",
        "* Layer 1 (2) - \"continent encoded\" , \"location encoded\"\n",
        "* Layer 2 (7) - \"day\" , \"prev day cases\" , \"prev day deaths\" , \"population density\" , \"median age\" , \"diabetes prevelance\" , \"life expectancy\"\n",
        "\n",
        "###**Output Train :**\n",
        "* Output Layer (2) - \"new cases\" ,\"new deaths\"\n",
        "\n",
        "\n",
        "###**Input Test :**\n",
        "* Layer 1 (2) - \"continent encoded\" , \"location encoded\"\n",
        "* Layer 2 (6) - \"prev day cases\" , \"prev day deaths\" , \"population density\" , \"median age\" , \"diabetes prevalence\" , \"life expectancy\"\n",
        "\n",
        "###**Output Test :**\n",
        "* Output Layer (2) - \"new cases\" ,\"new deaths\""
      ]
    },
    {
      "cell_type": "code",
      "metadata": {
        "id": "pOaYAQO2wczN"
      },
      "source": [
        "#Training Data into Input Features\n",
        "#Input Layer 1  = 2 Features - Continent and Country (Location)\n",
        "Xnet1_train = train_data[[\"Continent_encoded\",\"Location_encoded\"]] \n",
        "\n",
        "#Input Layer 2 = 7 features - Day , Prev Day Cases, Prev Day Deaths , Population Density , Median Age , Diabetes Prevelance , Life Expectaancy\n",
        "Xnet2_train = train_data[[\"Day\" , \"Prev_Day_Cases\" , \"Prev_Day_Deaths\" , \"population_density\" , \"median_age\" , \"diabetes_prevalence\" , \"life_expectancy\"]]\n",
        "\n",
        "#Output Features (Target)\n",
        "Ytrain = train_data[[\"new_cases\" ,\"new_deaths\"]]\n",
        "\n",
        "#Testing Data into Input Features\n",
        "test_data=test_data[test_data['location']!='Hong Kong'] #Honk Kong has no data for new_cases, new_deaths\n",
        "Xnet1_test = test_data[[\"Continent_encoded\",\"Location_encoded\"]] \n",
        "#Considering Days as a seperate entity for \n",
        "Xnet2_test = test_data[[\"Prev_Day_Cases\" , \"Prev_Day_Deaths\" , \"population_density\" , \"median_age\" , \"diabetes_prevalence\" , \"life_expectancy\"]]\n",
        "test_days = test_data[\"Day\"].to_numpy()                                        #Conversion is importnat calculation can be done only with arrays not lists\n",
        "Ytest = test_data[[\"new_cases\" ,\"new_deaths\"]]"
      ],
      "execution_count": null,
      "outputs": []
    },
    {
      "cell_type": "code",
      "metadata": {
        "colab": {
          "base_uri": "https://localhost:8080/"
        },
        "id": "zOxt4topxNMc",
        "outputId": "f5229dce-5166-420f-da3b-d0fde115cf08"
      },
      "source": [
        "#Training Feature Dimensions\n",
        "print(\"Shape of Input features of Network1 \" +str(Xnet1_train.shape))\n",
        "print(\"Shape of Input features of Network2 \" + str(Xnet2_train.shape))\n",
        "print(\"Shape of Target of Network \" + str(Ytrain.shape))\n",
        "print(test_days.shape)"
      ],
      "execution_count": null,
      "outputs": [
        {
          "output_type": "stream",
          "text": [
            "Shape of Input features of Network1 (27306, 2)\n",
            "Shape of Input features of Network2 (27306, 7)\n",
            "Shape of Target of Network (27306, 2)\n",
            "(3077,)\n"
          ],
          "name": "stdout"
        }
      ]
    },
    {
      "cell_type": "markdown",
      "metadata": {
        "id": "H10VtcovtA4S"
      },
      "source": [
        "###**Feature Scaling :**\n",
        "* Normalization\n",
        "* Standardization"
      ]
    },
    {
      "cell_type": "code",
      "metadata": {
        "id": "SN1l_cf4z81f"
      },
      "source": [
        "#Feature Scaling \n",
        "MinMax = MinMaxScaler(feature_range=(-10,10))\n",
        "Standard = StandardScaler()\n",
        "#Processing the Traning Data\n",
        "#Normalizing Data -(Location_ Encoded, Continent_Encoded, Population Density , Median Age , Diabetes Prevelance , Life Expectancy between (-10 , 10)\n",
        "#Net 1\n",
        "Xnet1_train_scaled= MinMax.fit_transform(Xnet1_train) \n",
        "\n",
        "#Net2\n",
        "Xnet2_train_scaled = Xnet2_train\n",
        "Xnet2_train_scaled[\"population_density\"] = MinMax.fit_transform(Xnet2_train[\"population_density\"].to_numpy().reshape(-1,1))  #Need to reshape into 2D\n",
        "Xnet2_train_scaled[\"median_age\"] = MinMax.fit_transform(Xnet2_train[\"median_age\"].to_numpy().reshape(-1,1))\n",
        "Xnet2_train_scaled[\"diabetes_prevalence\"] = MinMax.fit_transform(Xnet2_train[\"diabetes_prevalence\"].to_numpy().reshape(-1,1))\n",
        "Xnet2_train_scaled[\"life_expectancy\"] = MinMax.fit_transform(Xnet2_train[\"life_expectancy\"].to_numpy().reshape(-1,1))\n",
        "\n",
        "#Standardize Data -( Prev_Day_Cases , Prev_Day_Deaths , Target )\n",
        "Xnet2_train_scaled[\"Prev_Day_Cases\"] = Standard.fit_transform(Xnet2_train[\"Prev_Day_Cases\"].to_numpy().reshape(-1,1)) \n",
        "Xnet2_train_scaled[\"Prev_Day_Deaths\"] = Standard.fit_transform(Xnet2_train[\"Prev_Day_Deaths\"].to_numpy().reshape(-1,1))\n",
        "Ytrain_scaled = Standard.fit_transform(Ytrain)                          \n",
        "Xnet2_train_scaled = Xnet2_train_scaled.to_numpy()    #Calculation can be done only on arrays and not list\n",
        "\n",
        "#Processing the Testing Data\n",
        "Xnet1_test_scaled = MinMax.fit_transform(Xnet1_test)\n",
        "\n",
        "Xnet2_test_scaled = Xnet2_test\n",
        "Xnet2_test_scaled[\"population_density\"] = MinMax.fit_transform(Xnet2_test[\"population_density\"].to_numpy().reshape(-1,1))  #Need to reshape into 2D\n",
        "Xnet2_test_scaled[\"median_age\"] = MinMax.fit_transform(Xnet2_test[\"median_age\"].to_numpy().reshape(-1,1))\n",
        "Xnet2_test_scaled[\"diabetes_prevalence\"] = MinMax.fit_transform(Xnet2_test[\"diabetes_prevalence\"].to_numpy().reshape(-1,1))\n",
        "Xnet2_test_scaled[\"life_expectancy\"] = MinMax.fit_transform(Xnet2_test[\"life_expectancy\"].to_numpy().reshape(-1,1))\n",
        "\n",
        "Xnet2_test_scaled[\"Prev_Day_Cases\"] = Standard.fit_transform(Xnet2_test[\"Prev_Day_Cases\"].to_numpy().reshape(-1,1)) \n",
        "Xnet2_test_scaled[\"Prev_Day_Deaths\"] = Standard.fit_transform(Xnet2_test[\"Prev_Day_Deaths\"].to_numpy().reshape(-1,1))\n",
        "Xnet2_test_scaled = Xnet2_test_scaled.to_numpy()\n",
        "\n",
        "Ytest_scaled = Ytest\n",
        "Ytest_scaled[\"new_cases\"] = Standard.fit_transform(Ytest[\"new_cases\"].to_numpy().reshape(-1,1))\n",
        "Ytest_scaled[\"new_deaths\"] = Standard.fit_transform(Ytest[\"new_deaths\"].to_numpy().reshape(-1,1))\n",
        "Ytest_scaled= Ytest_scaled.to_numpy()\n",
        "\n",
        "t = Xnet2_test_scaled.T\n",
        "p = t[:2,180:360]\n",
        "print(p.shape)\n",
        "#DataType\n",
        "#Xnet1_train_scaled = nd.array\n",
        "#Xnet2_train_scaled = nd.array\n",
        "#Ytrain_scaled = nd.array\n",
        "\n",
        "#Xnet1_test_scaled = nd.array\n",
        "#Xnet2_test_scaled = nd.array\n",
        "#Ytestscaled = nd.array\n",
        "print(type(Ytest_scaled))"
      ],
      "execution_count": null,
      "outputs": []
    },
    {
      "cell_type": "markdown",
      "metadata": {
        "id": "eX1_-ipcuf4o"
      },
      "source": [
        "##**Multi Layer Perceptron**\n",
        "\n",
        "####Functions being implemented are :\n",
        "* Initialize Properties - No. of layers, No. of neurons in each layer, Activation Function used\n",
        "* Initialize Parameters\n",
        "* Forward Propogation\n",
        "* Loss Function\n",
        "* Backward Propogation\n",
        "* Gradient Descent"
      ]
    },
    {
      "cell_type": "code",
      "metadata": {
        "id": "ZGpgBDJ9AYhv"
      },
      "source": [
        "### Layers\n",
        "class Layer:\n",
        "    \n",
        "    def __init__(self,no_layers,num_nodes:list,activation:list):\n",
        "        self.layers=no_layers\n",
        "        self.nodes=num_nodes\n",
        "        self.activation=activation\n",
        "        self.params=self.intialize_weight()\n",
        "        self.grads={}\n",
        "\n",
        "    def intialize_weight(self):\n",
        "        np.random.seed(3)\n",
        "        parameters = {}\n",
        "        L = len(self.nodes)       \n",
        "\n",
        "        for l in range(1, L):\n",
        "            parameters['W' + str(l)] = np.random.randn(self.nodes[l],self.nodes[l-1])*0.01\n",
        "            parameters['b' + str(l)] = np.zeros((self.nodes[l],1))\n",
        "            \n",
        "            \n",
        "        assert(parameters['W' + str(l)].shape == (self.nodes[l], self.nodes[l-1]))\n",
        "        assert(parameters['b' + str(l)].shape == (self.nodes[l], 1))\n",
        "\n",
        "        \n",
        "        return parameters\n",
        "\n",
        "### Activation\n",
        "\n",
        "import numpy as np\n",
        "\n",
        "class Activation:\n",
        "    def Sigmoid(x,derivative=False):\n",
        "        if derivative:\n",
        "            return x-(x**2)\n",
        "        else:\n",
        "            return 1/(1+np.exp(-x))\n",
        "    def Tanh(x,derivative=False):\n",
        "        if derivative:\n",
        "            return 1-(np.tanh(x)*np.tanh(x))\n",
        "        else:\n",
        "            return np.tanh(x)\n",
        "    def Relu(x,derivative=False):\n",
        "        if derivative:\n",
        "            return np.greater(x,0).astype(float)\n",
        "        else:\n",
        "            return np.maximum(x,0)\n",
        "    def Linear(x,derivative=False):\n",
        "        if derivative:\n",
        "            return 1\n",
        "        else:\n",
        "            return x\n",
        "\n",
        "### Training\n",
        "\n",
        "from matplotlib import pyplot as plt\n",
        "import pickle\n",
        "\n",
        "\n",
        "class MLP:\n",
        "\n",
        "  def forward_propagate(self,net:Layer,X):\n",
        "        net.params['a0']=X\n",
        "        #Calculate the activations for every  layers\n",
        "        for l in range(1, net.layers):\n",
        "            net.params['z' + str(l)] = np.add(np.dot(net.params['W' + str(l)], net.params['a' + str(l - 1)]), net.params['b' + str(l)])\n",
        "            if(net.activation[l-1]=='relu'):\n",
        "                net.params['a' + str(l)] = Activation.Relu(net.params['z' + str(l)])\n",
        "            elif(net.activation[l-1]=='tanh'):\n",
        "                net.params['a' + str(l)] = Activation.Tanh(net.params['z' + str(l)])\n",
        "            elif(net.activation[l-1]=='linear'):\n",
        "                net.params['a' + str(l)] = Activation.Linear(net.params['z' + str(l)])\n",
        "            else:\n",
        "                net.params['a' + str(l)] = Activation.Sigmoid(net.params['z' + str(l)])\n",
        "        return net\n",
        "        \n",
        "  def compute_cost(self,net, y):\n",
        "        #compute the cost error\n",
        "        m=y.shape[1]\n",
        "        cost = 0.5/m *np.sum((y-net.params['a'+str(net.layers-1)])**2)\n",
        "        cost=np.squeeze((cost))        \n",
        "        return cost\n",
        "    \n",
        "  def compute_grads(self,net1,net2, y):\n",
        "        #compuete gradiants\n",
        "        L=net2.layers\n",
        "        m=y.shape[1]\n",
        "        net2.grads['dz' + str(L-1)] = net2.params['a' + str(L-1)] - y\n",
        "        #dWlayers\n",
        "        net2.grads['dW' + str(L-1)] = 1/m*np.dot(net2.grads['dz' + str(L-1)], net2.params['a' + str(L-2)].T)\n",
        "        #dbL\n",
        "        net2.grads['db' + str(L-1)] = 1/m*np.sum(net2.grads['dz' + str(L-1)],axis=1,keepdims=True)\n",
        "\n",
        "        #Partial grads of the cost function with respect to z[layers], W[layers] and b[layers]\n",
        "        for l in range(net2.layers-2, 0, -1):\n",
        "            if(net2.activation[l-1]=='relu'):\n",
        "                net2.grads['dz' + str(l)] = np.dot(np.transpose(net2.params['W' + str(l + 1)]), net2.grads['dz' + str(l + 1)])*Activation.Relu(net2.params['z' + str(l)],derivative=True)\n",
        "            elif(net2.activation[l-1]=='tanh'):\n",
        "                net2.grads['dz' + str(l)] = np.dot(np.transpose(net2.params['W' + str(l + 1)]), net2.grads['dz' + str(l + 1)])*Activation.Tanh(net2.params['z' + str(l)],derivative=True)\n",
        "            elif(net2.activation[l-1]=='linear'):\n",
        "                net2.grads['dz' + str(l)] = np.dot(np.transpose(net2.params['W' + str(l + 1)]), net2.grads['dz' + str(l + 1)])*Activation.Linear(net2.params['z' + str(l)],derivative=True)\n",
        "            else:\n",
        "                net2.grads['dz' + str(l)] = np.dot(np.transpose(net2.params['W' + str(l + 1)]), net2.grads['dz' + str(l + 1)])*Activation.Sigmoid(net2.params['z' + str(l)],derivative=True)\n",
        "            net2.grads['dW' + str(l)] = 1/m * (np.dot(net2.grads['dz' + str(l)], np.transpose(net2.params['a' + str(l - 1)])))\n",
        "            net2.grads['db' + str(l)] = 1 /m * (np.sum(net2.grads['dz'+str(l)],axis = 1,keepdims = True))\n",
        "        #compute the gradient of network1 through network 2\n",
        "        weight_2_1=net2.params['W1'][:,0:net1.nodes[-1]]\n",
        "        if(net1.activation[0]=='relu'):\n",
        "            net1.grads['dz1']=np.dot(weight_2_1.T,net2.params['z1'])*Activation.Relu(net1.params['z1'],derivative=True)\n",
        "        elif(net1.activation[0]=='tanh'):\n",
        "            net1.grads['dz1']=np.dot(weight_2_1.T,net2.params['z1'])*Activation.Tanh(net1.params['z1'],derivative=True)\n",
        "        elif(net1.activation[0]=='linear'):\n",
        "            net1.grads['dz1']=np.dot(weight_2_1.T,net2.params['z1'])*Activation.Linear(net1.params['z1'],derivative=True)\n",
        "        else:\n",
        "            net1.grads['dz1']=np.dot(weight_2_1.T,net2.params['z1'])*Activation.Relu(net1.params['z1'],derivative=True)\n",
        "        net1.grads['dW1']=1/m * np.dot(net1.grads['dz1'], np.transpose(net1.params['a0']))\n",
        "        net1.grads['db1']=1 / m * (np.sum(net1.grads['dz1'],axis = 1,keepdims = True))\n",
        "        pass\n",
        "    \n",
        "  def update_params(self,net,lr1):\n",
        "        \n",
        "        for l in range(1, net.layers):\n",
        "            net.params['W' + str(l)] -= lr1*net.grads['dW' + str(l)]\n",
        "            net.params['b' + str(l)] -= lr1*net.grads['db' + str(l)]\n",
        "        pass\n",
        "        \n",
        "      \n",
        "  def saveweight(self,net1,net2):\n",
        "    params=[net1,net2]\n",
        "    with open('weights.dat','wb') as f:\n",
        "        pickle.dump(params,f)\n",
        "    print('weights saved successfully')\n",
        "    pass\n",
        "\n",
        "  def Train(self , X,Xnet2,Y,net1,net2,epochs,lr1,lr2,printcost):\n",
        "    m=X.shape[1]\n",
        "    costs=[]\n",
        "    for i in range(0,epochs):\n",
        "        \n",
        "        net1=model.forward_propagate(net1,X)\n",
        "        prop=np.concatenate([net1.params['a1'],Xnet2])\n",
        "        net2=model.forward_propagate(net2,prop)\n",
        "        cost=model.compute_cost(net2,Y)\n",
        "        costs.append(cost)\n",
        "        model.compute_grads(net1,net2,Y)\n",
        "        if(i<epochs/2):\n",
        "            model.update_params(net1,lr1)\n",
        "        model.update_params(net2,lr2)\n",
        "\n",
        "        if printcost and i % 100 == 0:\n",
        "            costs.append(cost)\n",
        "            print('cost %d :' %i + str(cost))\n",
        "        \n",
        "     # plot the cost\n",
        "    plt.plot(np.squeeze(costs))\n",
        "    plt.ylabel('cost')\n",
        "    plt.xlabel('iterations (per hundreds)')\n",
        "    plt.title(\"Trainingloss\")\n",
        "    plt.show()\n",
        "    model.saveweight(net1,net2)\n",
        "    pass  \n",
        "  \n",
        "  def Predict(self, X,Xnet2,net1,net2):\n",
        "    #predict with the cross validation set\n",
        "    net_1=model.forward_propagate(net1,X)\n",
        "    prop=np.concatenate([net_1.params['a1'],Xnet2])\n",
        "    net_2=model.forward_propagate(net2,prop)\n",
        "    return net2.params['a'+str(net2.layers-1)]\n",
        "\n",
        "  def Test(self, X,X_net2,test_days,net1,net2):\n",
        "    #evaluation function to test with test set\n",
        "    y=np.zeros((2,X_net2.shape[1]))\n",
        "    m=X.shape[1]\n",
        "    i=1\n",
        "    size=180 #number of countries\n",
        "    while(i<17):   #17 days are in test set\n",
        "        X_test_batch_net1=X[:,(i-1)*size:i*size]\n",
        "        X_test_batch_net2=X_net2[:,(i-1)*size:i*size]\n",
        "        test_day=test_days[:,(i-1)*size:i*size]\n",
        "        X_test_batch_net2 =np.concatenate([test_day,X_test_batch_net2])\n",
        "        net_1=model.forward_propagate(net1, X_test_batch_net1)\n",
        "        prop=np.concatenate([net_1.params['a1'],X_test_batch_net2])\n",
        "        net_2=model.forward_propagate(net2,prop)\n",
        "        y[:,(i-1)*size:i*size]=net_2.params['a'+str(net_2.layers-1)]\n",
        "        X_net2[:2,i*size:(i+1)*size]=y[:,(i-1)*size:i*size]\n",
        "        i+=1\n",
        "        \n",
        "    return y\n",
        "\n",
        "\n",
        "  \n",
        "  \n",
        "model=MLP()    #model is an object of class MLP\n",
        "### Load Model\n",
        "\n",
        "class loadmodel :\n",
        "  def load_weights():\n",
        "    with open('weights.dat','rb') as f:\n",
        "        weights = pickle.load(f)\n",
        "        net1,net2=weights[0],weights[1]\n",
        "    return net1,net2\n",
        "\n",
        "\n"
      ],
      "execution_count": null,
      "outputs": []
    },
    {
      "cell_type": "code",
      "metadata": {
        "colab": {
          "base_uri": "https://localhost:8080/",
          "height": 577
        },
        "id": "heJgDR57D4oA",
        "outputId": "76c6fd4e-a22d-4df1-dfb0-6a6781fd1aeb"
      },
      "source": [
        "#Training the model\n",
        "NeuralNet1 = Layer(2,[2,5],activation=['linear'])\n",
        "NeuralNet2 = Layer(4,[12,16,16,2],activation=['relu','relu','linear'])\n",
        "epochs=1500\n",
        "lr1=0.1\n",
        "lr2=0.005\n",
        "model.Train(Xnet1_train_scaled.T, Xnet2_train_scaled.T, Ytrain_scaled.T, NeuralNet1, NeuralNet2, epochs, lr1, lr2, printcost=True)\n",
        "trainedNet1,trainedNet2 = loadmodel.load_weights()"
      ],
      "execution_count": null,
      "outputs": [
        {
          "output_type": "stream",
          "text": [
            "cost 0 :0.9999906328654365\n",
            "cost 100 :0.9999568900520545\n",
            "cost 200 :0.9998718156918861\n",
            "cost 300 :0.9997368103619825\n",
            "cost 400 :0.9994237376762887\n",
            "cost 500 :0.9985944940636158\n",
            "cost 600 :0.9954143098086539\n",
            "cost 700 :0.9725110401011012\n",
            "cost 800 :0.7363111103170014\n",
            "cost 900 :0.49067840264830914\n",
            "cost 1000 :0.47895140178551093\n",
            "cost 1100 :0.46814247652738084\n",
            "cost 1200 :0.45654036765904693\n",
            "cost 1300 :0.4433281948931976\n",
            "cost 1400 :0.4279558313749064\n"
          ],
          "name": "stdout"
        },
        {
          "output_type": "display_data",
          "data": {
            "image/png": "[encoded data removed]",
            "text/plain": [
              "<Figure size 432x288 with 1 Axes>"
            ]
          },
          "metadata": {
            "tags": [],
            "needs_background": "light"
          }
        },
        {
          "output_type": "stream",
          "text": [
            "weights saved successfully\n"
          ],
          "name": "stdout"
        }
      ]
    },
    {
      "cell_type": "code",
      "metadata": {
        "id": "OpN7zW_hA10b"
      },
      "source": [
        "Ypred = model.Predict(Xnet1_train_scaled.T, Xnet2_train_scaled.T, trainedNet1, trainedNet2)"
      ],
      "execution_count": null,
      "outputs": []
    },
    {
      "cell_type": "code",
      "metadata": {
        "colab": {
          "base_uri": "https://localhost:8080/"
        },
        "id": "TErdkHS8LXBW",
        "outputId": "870f8a01-22d5-46fc-8dd4-507388d4a037"
      },
      "source": [
        "print('TRAINING LOSS :'+str((mse(Ypred.T,Ytrain_scaled))))"
      ],
      "execution_count": null,
      "outputs": [
        {
          "output_type": "stream",
          "text": [
            "TRAINING LOSS :0.41167715185925413\n"
          ],
          "name": "stdout"
        }
      ]
    },
    {
      "cell_type": "code",
      "metadata": {
        "id": "jy2ULJCmIn7M"
      },
      "source": [
        "#Using model weights for test cases\n",
        "test_days=test_days.reshape(1,test_days.shape[0])\n",
        "Ypred_test = model.Test(Xnet1_test_scaled.T, Xnet2_test_scaled.T, test_days, trainedNet1, trainedNet2)"
      ],
      "execution_count": null,
      "outputs": []
    },
    {
      "cell_type": "code",
      "metadata": {
        "colab": {
          "base_uri": "https://localhost:8080/"
        },
        "id": "qD6mUT9sJItg",
        "outputId": "0fe56881-5647-4212-f8d1-72f5cd3ac7d3"
      },
      "source": [
        "\n",
        "#Loss for Test Cases\n",
        "print('TEST LOSS : ' + str(mse(Ypred_test,Ytest_scaled.T)))\n"
      ],
      "execution_count": null,
      "outputs": [
        {
          "output_type": "stream",
          "text": [
            "TEST LOSS : 0.9584656663685227\n"
          ],
          "name": "stdout"
        }
      ]
    },
    {
      "cell_type": "code",
      "metadata": {
        "id": "wvjfo1MNtILZ"
      },
      "source": [
        ""
      ],
      "execution_count": null,
      "outputs": []
    }
  ]
}